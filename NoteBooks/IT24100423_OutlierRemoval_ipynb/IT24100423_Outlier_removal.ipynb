{
  "nbformat": 4,
  "nbformat_minor": 0,
  "metadata": {
    "colab": {
      "provenance": []
    },
    "kernelspec": {
      "name": "python3",
      "display_name": "Python 3"
    },
    "language_info": {
      "name": "python"
    }
  },
  "cells": [
    {
      "cell_type": "code",
      "execution_count": 15,
      "metadata": {
        "id": "TD2OE6Obtymn"
      },
      "outputs": [],
      "source": [
        "import pandas as pd\n",
        "import numpy as np\n",
        "\n",
        "pd.set_option(\"display.max_columns\", None)"
      ]
    },
    {
      "cell_type": "code",
      "source": [
        "df = pd.read_csv(\"Weather-related disease prediction (1).csv\")                                           # Cell 3: Make/normalize 3-class label (Heart Attack, Migraine, Other)\n",
        "\n",
        "def _norm_label(x):\n",
        "    return str(x).strip().lower()\n",
        "\n",
        "def _map_to_3class(x):\n",
        "    s = _norm_label(x)\n",
        "    if s in {\"heart attack\", \"heart-attack\", \"heart_attack\", \"heartattack\"}:\n",
        "        return \"Heart Attack\"\n",
        "    if s in {\"migraine\", \"migrane\", \"migraine headache\", \"migraine-\"}:\n",
        "        return \"Migraine\"\n",
        "    return \"Other\"\n",
        "\n",
        "if \"prognosis_3class\" not in df.columns:\n",
        "    if \"prognosis\" not in df.columns:\n",
        "        raise ValueError(\"Column 'prognosis' not found.\")\n",
        "    df[\"prognosis_3class\"] = df[\"prognosis\"].map(_map_to_3class)\n",
        "else:\n",
        "    df[\"prognosis_3class\"] = df[\"prognosis_3class\"].map(_map_to_3class)\n",
        "\n",
        "df[\"prognosis_3class\"].value_counts()"
      ],
      "metadata": {
        "colab": {
          "base_uri": "https://localhost:8080/",
          "height": 207
        },
        "id": "7YgXT9JauQ7B",
        "outputId": "a0579bf8-c10b-4201-dc91-a21556ea2733"
      },
      "execution_count": 16,
      "outputs": [
        {
          "output_type": "execute_result",
          "data": {
            "text/plain": [
              "prognosis_3class\n",
              "Other           3246\n",
              "Heart Attack    1013\n",
              "Migraine         941\n",
              "Name: count, dtype: int64"
            ],
            "text/html": [
              "<div>\n",
              "<style scoped>\n",
              "    .dataframe tbody tr th:only-of-type {\n",
              "        vertical-align: middle;\n",
              "    }\n",
              "\n",
              "    .dataframe tbody tr th {\n",
              "        vertical-align: top;\n",
              "    }\n",
              "\n",
              "    .dataframe thead th {\n",
              "        text-align: right;\n",
              "    }\n",
              "</style>\n",
              "<table border=\"1\" class=\"dataframe\">\n",
              "  <thead>\n",
              "    <tr style=\"text-align: right;\">\n",
              "      <th></th>\n",
              "      <th>count</th>\n",
              "    </tr>\n",
              "    <tr>\n",
              "      <th>prognosis_3class</th>\n",
              "      <th></th>\n",
              "    </tr>\n",
              "  </thead>\n",
              "  <tbody>\n",
              "    <tr>\n",
              "      <th>Other</th>\n",
              "      <td>3246</td>\n",
              "    </tr>\n",
              "    <tr>\n",
              "      <th>Heart Attack</th>\n",
              "      <td>1013</td>\n",
              "    </tr>\n",
              "    <tr>\n",
              "      <th>Migraine</th>\n",
              "      <td>941</td>\n",
              "    </tr>\n",
              "  </tbody>\n",
              "</table>\n",
              "</div><br><label><b>dtype:</b> int64</label>"
            ]
          },
          "metadata": {},
          "execution_count": 16
        }
      ]
    },
    {
      "cell_type": "code",
      "source": [
        "print(\"Before cleaning:\", df.shape)\n",
        "print(\"Class distribution before cleaning:\")\n",
        "print(df[\"prognosis_3class\"].value_counts())"
      ],
      "metadata": {
        "colab": {
          "base_uri": "https://localhost:8080/"
        },
        "id": "MDL2Lp11sI8s",
        "outputId": "dfed14a6-e9b1-465a-fb4f-3322c6df7db0"
      },
      "execution_count": 17,
      "outputs": [
        {
          "output_type": "stream",
          "name": "stdout",
          "text": [
            "Before cleaning: (5200, 52)\n",
            "Class distribution before cleaning:\n",
            "prognosis_3class\n",
            "Other           3246\n",
            "Heart Attack    1013\n",
            "Migraine         941\n",
            "Name: count, dtype: int64\n"
          ]
        }
      ]
    },
    {
      "cell_type": "code",
      "source": [
        "import matplotlib.pyplot as plt\n",
        "\n",
        "counts = df[\"prognosis_3class\"].value_counts()\n",
        "\n",
        "plt.figure(figsize=(6,4))\n",
        "ax = counts.plot(kind=\"bar\", color=[\"tomato\", \"skyblue\", \"lightgreen\"])\n",
        "plt.title(\"Distribution of Prognosis (3-Class)\")\n",
        "plt.xlabel(\"Prognosis Class\")\n",
        "plt.ylabel(\"Count\")\n",
        "plt.xticks(rotation=0)\n",
        "\n",
        "# Add values on top of each bar\n",
        "for i, val in enumerate(counts):\n",
        "    ax.text(i, val + 1, str(val), ha='center', va='bottom', fontsize=10)\n",
        "\n",
        "plt.show()\n",
        "\n",
        "\n"
      ],
      "metadata": {
        "colab": {
          "base_uri": "https://localhost:8080/",
          "height": 410
        },
        "id": "gF4YuhOxpGmy",
        "outputId": "86d2e517-e2a2-4fb3-f1cd-1e52174da510"
      },
      "execution_count": 18,
      "outputs": [
        {
          "output_type": "display_data",
          "data": {
            "text/plain": [
              "<Figure size 600x400 with 1 Axes>"
            ],
            "image/png": "[encoded data removed]"
          },
          "metadata": {}
        }
      ]
    },
    {
      "cell_type": "code",
      "source": [
        "# Drop duplicate rows\n",
        "dup_count = df.duplicated().sum()\n",
        "df = df.drop_duplicates().reset_index(drop=True)\n",
        "print(f\"Duplicates removed: {dup_count}\")\n",
        "print(df.shape)"
      ],
      "metadata": {
        "colab": {
          "base_uri": "https://localhost:8080/"
        },
        "id": "SizAit8cuW8-",
        "outputId": "1bf47471-3fbd-44d6-9efd-78cc635e0af1"
      },
      "execution_count": 19,
      "outputs": [
        {
          "output_type": "stream",
          "name": "stdout",
          "text": [
            "Duplicates removed: 219\n",
            "(4981, 52)\n"
          ]
        }
      ]
    },
    {
      "cell_type": "code",
      "source": [
        "print(\"After duplicate removal:\", df.shape)\n",
        "print(df[\"prognosis_3class\"].value_counts())"
      ],
      "metadata": {
        "colab": {
          "base_uri": "https://localhost:8080/"
        },
        "id": "riYfOXT8sXOR",
        "outputId": "21dc40d4-99be-4ac8-fead-638ad8065b5b"
      },
      "execution_count": 20,
      "outputs": [
        {
          "output_type": "stream",
          "name": "stdout",
          "text": [
            "After duplicate removal: (4981, 52)\n",
            "prognosis_3class\n",
            "Other           3116\n",
            "Heart Attack     968\n",
            "Migraine         897\n",
            "Name: count, dtype: int64\n"
          ]
        }
      ]
    },
    {
      "cell_type": "code",
      "source": [
        "import matplotlib.pyplot as plt\n",
        "\n",
        "counts = df[\"prognosis_3class\"].value_counts()\n",
        "\n",
        "plt.figure(figsize=(6,4))\n",
        "ax = counts.plot(kind=\"bar\", color=[\"tomato\", \"skyblue\", \"lightgreen\"])\n",
        "plt.title(\"Distribution of Prognosis (3-Class) after Removing Duplicates\")\n",
        "plt.xlabel(\"Prognosis Class\")\n",
        "plt.ylabel(\"Count\")\n",
        "plt.xticks(rotation=0)\n",
        "\n",
        "for i, val in enumerate(counts):\n",
        "    ax.text(i, val + 1, str(val), ha='center', va='bottom', fontsize=10)\n",
        "\n",
        "plt.show()\n"
      ],
      "metadata": {
        "colab": {
          "base_uri": "https://localhost:8080/",
          "height": 410
        },
        "id": "91796riZpdOa",
        "outputId": "5c08ddc6-599d-4002-8ac8-2623b5021ff1"
      },
      "execution_count": 21,
      "outputs": [
        {
          "output_type": "display_data",
          "data": {
            "text/plain": [
              "<Figure size 600x400 with 1 Axes>"
            ],
            "image/png": "[encoded data removed]"
          },
          "metadata": {}
        }
      ]
    },
    {
      "cell_type": "code",
      "source": [
        "# Identify continuous & binary columns\n",
        "continuous_cols = [c for c in [\"Age\", \"Temperature (C)\", \"Humidity\", \"Wind Speed (km/h)\"] if c in df.columns]\n",
        "\n",
        "targets = {\"prognosis\", \"prognosis_3class\"}\n",
        "num_cols = [c for c in df.columns if pd.api.types.is_numeric_dtype(df[c])]\n",
        "binary_candidates = [c for c in num_cols if c not in set(continuous_cols) | targets]\n",
        "\n",
        "print(\"Continuous:\", continuous_cols)\n",
        "print(\"Binary candidates (will enforce 0/1):\", binary_candidates[:10], \" ... total:\", len(binary_candidates))"
      ],
      "metadata": {
        "colab": {
          "base_uri": "https://localhost:8080/"
        },
        "id": "yTGrKvytucGB",
        "outputId": "e4b47012-7670-4b1d-9556-64239720b4a8"
      },
      "execution_count": 22,
      "outputs": [
        {
          "output_type": "stream",
          "name": "stdout",
          "text": [
            "Continuous: ['Age', 'Temperature (C)', 'Humidity', 'Wind Speed (km/h)']\n",
            "Binary candidates (will enforce 0/1): ['Gender', 'nausea', 'joint_pain', 'abdominal_pain', 'high_fever', 'chills', 'fatigue', 'runny_nose', 'pain_behind_the_eyes', 'dizziness']  ... total: 46\n"
          ]
        }
      ]
    },
    {
      "cell_type": "code",
      "source": [
        "# Clip impossible/implausible values to safe bounds\n",
        "clip_bounds = {\n",
        "    \"Age\": (0, 120),\n",
        "    \"Temperature (C)\": (-30, 55),\n",
        "    \"Humidity\": (0, 100),\n",
        "    \"Wind Speed (km/h)\": (0, 200),\n",
        "}\n",
        "\n",
        "for col in continuous_cols:\n",
        "    lo, hi = clip_bounds[col]\n",
        "    outliers = ((df[col] < lo) | (df[col] > hi)).sum()\n",
        "    df[col] = df[col].clip(lower=lo, upper=hi)\n",
        "    print(f\"{col}: clipped {outliers} values to [{lo}, {hi}]\")\n",
        "\n",
        "df[continuous_cols].describe().T"
      ],
      "metadata": {
        "colab": {
          "base_uri": "https://localhost:8080/",
          "height": 241
        },
        "id": "Exz0OpjUulhe",
        "outputId": "a9da9eae-154e-48cd-f27d-dbdd6a020983"
      },
      "execution_count": 23,
      "outputs": [
        {
          "output_type": "stream",
          "name": "stdout",
          "text": [
            "Age: clipped 0 values to [0, 120]\n",
            "Temperature (C): clipped 0 values to [-30, 55]\n",
            "Humidity: clipped 0 values to [0, 100]\n",
            "Wind Speed (km/h): clipped 0 values to [0, 200]\n"
          ]
        },
        {
          "output_type": "execute_result",
          "data": {
            "text/plain": [
              "                    count       mean        std        min        25%  \\\n",
              "Age                4981.0  51.290905  26.624880   1.000000  29.000000   \n",
              "Temperature (C)    4981.0  19.962910  11.439338 -15.125000  12.212269   \n",
              "Humidity           4981.0   0.745075   0.143060   0.370833   0.624167   \n",
              "Wind Speed (km/h)  4981.0  10.706016   5.672566   0.008000   6.415179   \n",
              "\n",
              "                         50%     75%         max  \n",
              "Age                53.000000  74.000  100.000000  \n",
              "Temperature (C)    20.081713  28.540   40.996000  \n",
              "Humidity            0.750000   0.860    1.000000  \n",
              "Wind Speed (km/h)  10.185933  15.062   31.303096  "
            ],
            "text/html": [
              "\n",
              "  <div id=\"df-28471665-ae39-46ec-b7b6-ca0337845a79\" class=\"colab-df-container\">\n",
              "    <div>\n",
              "<style scoped>\n",
              "    .dataframe tbody tr th:only-of-type {\n",
              "        vertical-align: middle;\n",
              "    }\n",
              "\n",
              "    .dataframe tbody tr th {\n",
              "        vertical-align: top;\n",
              "    }\n",
              "\n",
              "    .dataframe thead th {\n",
              "        text-align: right;\n",
              "    }\n",
              "</style>\n",
              "<table border=\"1\" class=\"dataframe\">\n",
              "  <thead>\n",
              "    <tr style=\"text-align: right;\">\n",
              "      <th></th>\n",
              "      <th>count</th>\n",
              "      <th>mean</th>\n",
              "      <th>std</th>\n",
              "      <th>min</th>\n",
              "      <th>25%</th>\n",
              "      <th>50%</th>\n",
              "      <th>75%</th>\n",
              "      <th>max</th>\n",
              "    </tr>\n",
              "  </thead>\n",
              "  <tbody>\n",
              "    <tr>\n",
              "      <th>Age</th>\n",
              "      <td>4981.0</td>\n",
              "      <td>51.290905</td>\n",
              "      <td>26.624880</td>\n",
              "      <td>1.000000</td>\n",
              "      <td>29.000000</td>\n",
              "      <td>53.000000</td>\n",
              "      <td>74.000</td>\n",
              "      <td>100.000000</td>\n",
              "    </tr>\n",
              "    <tr>\n",
              "      <th>Temperature (C)</th>\n",
              "      <td>4981.0</td>\n",
              "      <td>19.962910</td>\n",
              "      <td>11.439338</td>\n",
              "      <td>-15.125000</td>\n",
              "      <td>12.212269</td>\n",
              "      <td>20.081713</td>\n",
              "      <td>28.540</td>\n",
              "      <td>40.996000</td>\n",
              "    </tr>\n",
              "    <tr>\n",
              "      <th>Humidity</th>\n",
              "      <td>4981.0</td>\n",
              "      <td>0.745075</td>\n",
              "      <td>0.143060</td>\n",
              "      <td>0.370833</td>\n",
              "      <td>0.624167</td>\n",
              "      <td>0.750000</td>\n",
              "      <td>0.860</td>\n",
              "      <td>1.000000</td>\n",
              "    </tr>\n",
              "    <tr>\n",
              "      <th>Wind Speed (km/h)</th>\n",
              "      <td>4981.0</td>\n",
              "      <td>10.706016</td>\n",
              "      <td>5.672566</td>\n",
              "      <td>0.008000</td>\n",
              "      <td>6.415179</td>\n",
              "      <td>10.185933</td>\n",
              "      <td>15.062</td>\n",
              "      <td>31.303096</td>\n",
              "    </tr>\n",
              "  </tbody>\n",
              "</table>\n",
              "</div>\n",
              "    <div class=\"colab-df-buttons\">\n",
              "\n",
              "  <div class=\"colab-df-container\">\n",
              "    <button class=\"colab-df-convert\" onclick=\"convertToInteractive('df-28471665-ae39-46ec-b7b6-ca0337845a79')\"\n",
              "            title=\"Convert this dataframe to an interactive table.\"\n",
              "            style=\"display:none;\">\n",
              "\n",
              "  <svg xmlns=\"http://www.w3.org/2000/svg\" height=\"24px\" viewBox=\"0 -960 960 960\">\n",
              "    <path d=\"M120-120v-720h720v720H120Zm60-500h600v-160H180v160Zm220 220h160v-160H400v160Zm0 220h160v-160H400v160ZM180-400h160v-160H180v160Zm440 0h160v-160H620v160ZM180-180h160v-160H180v160Zm440 0h160v-160H620v160Z\"/>\n",
              "  </svg>\n",
              "    </button>\n",
              "\n",
              "  <style>\n",
              "    .colab-df-container {\n",
              "      display:flex;\n",
              "      gap: 12px;\n",
              "    }\n",
              "\n",
              "    .colab-df-convert {\n",
              "      background-color: #E8F0FE;\n",
              "      border: none;\n",
              "      border-radius: 50%;\n",
              "      cursor: pointer;\n",
              "      display: none;\n",
              "      fill: #1967D2;\n",
              "      height: 32px;\n",
              "      padding: 0 0 0 0;\n",
              "      width: 32px;\n",
              "    }\n",
              "\n",
              "    .colab-df-convert:hover {\n",
              "      background-color: #E2EBFA;\n",
              "      box-shadow: 0px 1px 2px rgba(60, 64, 67, 0.3), 0px 1px 3px 1px rgba(60, 64, 67, 0.15);\n",
              "      fill: #174EA6;\n",
              "    }\n",
              "\n",
              "    .colab-df-buttons div {\n",
              "      margin-bottom: 4px;\n",
              "    }\n",
              "\n",
              "    [theme=dark] .colab-df-convert {\n",
              "      background-color: #3B4455;\n",
              "      fill: #D2E3FC;\n",
              "    }\n",
              "\n",
              "    [theme=dark] .colab-df-convert:hover {\n",
              "      background-color: #434B5C;\n",
              "      box-shadow: 0px 1px 3px 1px rgba(0, 0, 0, 0.15);\n",
              "      filter: drop-shadow(0px 1px 2px rgba(0, 0, 0, 0.3));\n",
              "      fill: #FFFFFF;\n",
              "    }\n",
              "  </style>\n",
              "\n",
              "    <script>\n",
              "      const buttonEl =\n",
              "        document.querySelector('#df-28471665-ae39-46ec-b7b6-ca0337845a79 button.colab-df-convert');\n",
              "      buttonEl.style.display =\n",
              "        google.colab.kernel.accessAllowed ? 'block' : 'none';\n",
              "\n",
              "      async function convertToInteractive(key) {\n",
              "        const element = document.querySelector('#df-28471665-ae39-46ec-b7b6-ca0337845a79');\n",
              "        const dataTable =\n",
              "          await google.colab.kernel.invokeFunction('convertToInteractive',\n",
              "                                                    [key], {});\n",
              "        if (!dataTable) return;\n",
              "\n",
              "        const docLinkHtml = 'Like what you see? Visit the ' +\n",
              "          '<a target=\"_blank\" href=https://colab.research.google.com/notebooks/data_table.ipynb>data table notebook</a>'\n",
              "          + ' to learn more about interactive tables.';\n",
              "        element.innerHTML = '';\n",
              "        dataTable['output_type'] = 'display_data';\n",
              "        await google.colab.output.renderOutput(dataTable, element);\n",
              "        const docLink = document.createElement('div');\n",
              "        docLink.innerHTML = docLinkHtml;\n",
              "        element.appendChild(docLink);\n",
              "      }\n",
              "    </script>\n",
              "  </div>\n",
              "\n",
              "\n",
              "    <div id=\"df-2092aba2-a326-48a7-86c2-f2aa53e1cc8d\">\n",
              "      <button class=\"colab-df-quickchart\" onclick=\"quickchart('df-2092aba2-a326-48a7-86c2-f2aa53e1cc8d')\"\n",
              "                title=\"Suggest charts\"\n",
              "                style=\"display:none;\">\n",
              "\n",
              "<svg xmlns=\"http://www.w3.org/2000/svg\" height=\"24px\"viewBox=\"0 0 24 24\"\n",
              "     width=\"24px\">\n",
              "    <g>\n",
              "        <path d=\"M19 3H5c-1.1 0-2 .9-2 2v14c0 1.1.9 2 2 2h14c1.1 0 2-.9 2-2V5c0-1.1-.9-2-2-2zM9 17H7v-7h2v7zm4 0h-2V7h2v10zm4 0h-2v-4h2v4z\"/>\n",
              "    </g>\n",
              "</svg>\n",
              "      </button>\n",
              "\n",
              "<style>\n",
              "  .colab-df-quickchart {\n",
              "      --bg-color: #E8F0FE;\n",
              "      --fill-color: #1967D2;\n",
              "      --hover-bg-color: #E2EBFA;\n",
              "      --hover-fill-color: #174EA6;\n",
              "      --disabled-fill-color: #AAA;\n",
              "      --disabled-bg-color: #DDD;\n",
              "  }\n",
              "\n",
              "  [theme=dark] .colab-df-quickchart {\n",
              "      --bg-color: #3B4455;\n",
              "      --fill-color: #D2E3FC;\n",
              "      --hover-bg-color: #434B5C;\n",
              "      --hover-fill-color: #FFFFFF;\n",
              "      --disabled-bg-color: #3B4455;\n",
              "      --disabled-fill-color: #666;\n",
              "  }\n",
              "\n",
              "  .colab-df-quickchart {\n",
              "    background-color: var(--bg-color);\n",
              "    border: none;\n",
              "    border-radius: 50%;\n",
              "    cursor: pointer;\n",
              "    display: none;\n",
              "    fill: var(--fill-color);\n",
              "    height: 32px;\n",
              "    padding: 0;\n",
              "    width: 32px;\n",
              "  }\n",
              "\n",
              "  .colab-df-quickchart:hover {\n",
              "    background-color: var(--hover-bg-color);\n",
              "    box-shadow: 0 1px 2px rgba(60, 64, 67, 0.3), 0 1px 3px 1px rgba(60, 64, 67, 0.15);\n",
              "    fill: var(--button-hover-fill-color);\n",
              "  }\n",
              "\n",
              "  .colab-df-quickchart-complete:disabled,\n",
              "  .colab-df-quickchart-complete:disabled:hover {\n",
              "    background-color: var(--disabled-bg-color);\n",
              "    fill: var(--disabled-fill-color);\n",
              "    box-shadow: none;\n",
              "  }\n",
              "\n",
              "  .colab-df-spinner {\n",
              "    border: 2px solid var(--fill-color);\n",
              "    border-color: transparent;\n",
              "    border-bottom-color: var(--fill-color);\n",
              "    animation:\n",
              "      spin 1s steps(1) infinite;\n",
              "  }\n",
              "\n",
              "  @keyframes spin {\n",
              "    0% {\n",
              "      border-color: transparent;\n",
              "      border-bottom-color: var(--fill-color);\n",
              "      border-left-color: var(--fill-color);\n",
              "    }\n",
              "    20% {\n",
              "      border-color: transparent;\n",
              "      border-left-color: var(--fill-color);\n",
              "      border-top-color: var(--fill-color);\n",
              "    }\n",
              "    30% {\n",
              "      border-color: transparent;\n",
              "      border-left-color: var(--fill-color);\n",
              "      border-top-color: var(--fill-color);\n",
              "      border-right-color: var(--fill-color);\n",
              "    }\n",
              "    40% {\n",
              "      border-color: transparent;\n",
              "      border-right-color: var(--fill-color);\n",
              "      border-top-color: var(--fill-color);\n",
              "    }\n",
              "    60% {\n",
              "      border-color: transparent;\n",
              "      border-right-color: var(--fill-color);\n",
              "    }\n",
              "    80% {\n",
              "      border-color: transparent;\n",
              "      border-right-color: var(--fill-color);\n",
              "      border-bottom-color: var(--fill-color);\n",
              "    }\n",
              "    90% {\n",
              "      border-color: transparent;\n",
              "      border-bottom-color: var(--fill-color);\n",
              "    }\n",
              "  }\n",
              "</style>\n",
              "\n",
              "      <script>\n",
              "        async function quickchart(key) {\n",
              "          const quickchartButtonEl =\n",
              "            document.querySelector('#' + key + ' button');\n",
              "          quickchartButtonEl.disabled = true;  // To prevent multiple clicks.\n",
              "          quickchartButtonEl.classList.add('colab-df-spinner');\n",
              "          try {\n",
              "            const charts = await google.colab.kernel.invokeFunction(\n",
              "                'suggestCharts', [key], {});\n",
              "          } catch (error) {\n",
              "            console.error('Error during call to suggestCharts:', error);\n",
              "          }\n",
              "          quickchartButtonEl.classList.remove('colab-df-spinner');\n",
              "          quickchartButtonEl.classList.add('colab-df-quickchart-complete');\n",
              "        }\n",
              "        (() => {\n",
              "          let quickchartButtonEl =\n",
              "            document.querySelector('#df-2092aba2-a326-48a7-86c2-f2aa53e1cc8d button');\n",
              "          quickchartButtonEl.style.display =\n",
              "            google.colab.kernel.accessAllowed ? 'block' : 'none';\n",
              "        })();\n",
              "      </script>\n",
              "    </div>\n",
              "\n",
              "    </div>\n",
              "  </div>\n"
            ],
            "application/vnd.google.colaboratory.intrinsic+json": {
              "type": "dataframe",
              "summary": "{\n  \"name\": \"df[continuous_cols]\",\n  \"rows\": 4,\n  \"fields\": [\n    {\n      \"column\": \"count\",\n      \"properties\": {\n        \"dtype\": \"number\",\n        \"std\": 0.0,\n        \"min\": 4981.0,\n        \"max\": 4981.0,\n        \"num_unique_values\": 1,\n        \"samples\": [\n          4981.0\n        ],\n        \"semantic_type\": \"\",\n        \"description\": \"\"\n      }\n    },\n    {\n      \"column\": \"mean\",\n      \"properties\": {\n        \"dtype\": \"number\",\n        \"std\": 21.86643769846981,\n        \"min\": 0.7450746673511344,\n        \"max\": 51.290905440674564,\n        \"num_unique_values\": 4,\n        \"samples\": [\n          19.962910334668337\n        ],\n        \"semantic_type\": \"\",\n        \"description\": \"\"\n      }\n    },\n    {\n      \"column\": \"std\",\n      \"properties\": {\n        \"dtype\": \"number\",\n        \"std\": 11.410243580182808,\n        \"min\": 0.14306045651494156,\n        \"max\": 26.6248799534088,\n        \"num_unique_values\": 4,\n        \"samples\": [\n          11.439337855941956\n        ],\n        \"semantic_type\": \"\",\n        \"description\": \"\"\n      }\n    },\n    {\n      \"column\": \"min\",\n      \"properties\": {\n        \"dtype\": \"number\",\n        \"std\": 7.803074860840189,\n        \"min\": -15.125,\n        \"max\": 1.0,\n        \"num_unique_values\": 4,\n        \"samples\": [\n          -15.125\n        ],\n        \"semantic_type\": \"\",\n        \"description\": \"\"\n      }\n    },\n    {\n      \"column\": \"25%\",\n      \"properties\": {\n        \"dtype\": \"number\",\n        \"std\": 12.242399522910844,\n        \"min\": 0.624166667,\n        \"max\": 29.0,\n        \"num_unique_values\": 4,\n        \"samples\": [\n          12.21226852\n        ],\n        \"semantic_type\": \"\",\n        \"description\": \"\"\n      }\n    },\n    {\n      \"column\": \"50%\",\n      \"properties\": {\n        \"dtype\": \"number\",\n        \"std\": 22.743861524838955,\n        \"min\": 0.75,\n        \"max\": 53.0,\n        \"num_unique_values\": 4,\n        \"samples\": [\n          20.08171296\n        ],\n        \"semantic_type\": \"\",\n        \"description\": \"\"\n      }\n    },\n    {\n      \"column\": \"75%\",\n      \"properties\": {\n        \"dtype\": \"number\",\n        \"std\": 31.6745096410347,\n        \"min\": 0.86,\n        \"max\": 74.0,\n        \"num_unique_values\": 4,\n        \"samples\": [\n          28.54\n        ],\n        \"semantic_type\": \"\",\n        \"description\": \"\"\n      }\n    },\n    {\n      \"column\": \"max\",\n      \"properties\": {\n        \"dtype\": \"number\",\n        \"std\": 41.4463977954992,\n        \"min\": 1.0,\n        \"max\": 100.0,\n        \"num_unique_values\": 4,\n        \"samples\": [\n          40.996\n        ],\n        \"semantic_type\": \"\",\n        \"description\": \"\"\n      }\n    }\n  ]\n}"
            }
          },
          "metadata": {},
          "execution_count": 23
        }
      ]
    },
    {
      "cell_type": "code",
      "source": [
        "clip_bounds = {\n",
        "    \"Age\": (0, 120),\n",
        "    \"Temperature (C)\": (-30, 55),\n",
        "    \"Humidity\": (0, 100),\n",
        "    \"Wind Speed (km/h)\": (0, 200),\n",
        "}\n",
        "\n",
        "\n",
        "mask = np.ones(len(df), dtype=bool)\n",
        "for col in continuous_cols:\n",
        "    lo, hi = clip_bounds[col]\n",
        "    bad = ~df[col].between(lo, hi)\n",
        "    print(f\"{col}: removing {bad.sum()} outliers outside [{lo}, {hi}]\")\n",
        "    mask &= df[col].between(lo, hi)\n",
        "\n",
        "\n",
        "df = df[mask].reset_index(drop=True)\n",
        "\n",
        "print(\"After outlier removal:\", df.shape)\n",
        "print(df[continuous_cols].describe().T)\n"
      ],
      "metadata": {
        "colab": {
          "base_uri": "https://localhost:8080/"
        },
        "id": "ubr2oBVvuqqZ",
        "outputId": "a74d694a-da2d-4332-b30c-6f12a172245a"
      },
      "execution_count": 24,
      "outputs": [
        {
          "output_type": "stream",
          "name": "stdout",
          "text": [
            "Age: removing 0 outliers outside [0, 120]\n",
            "Temperature (C): removing 0 outliers outside [-30, 55]\n",
            "Humidity: removing 0 outliers outside [0, 100]\n",
            "Wind Speed (km/h): removing 0 outliers outside [0, 200]\n",
            "After outlier removal: (4981, 52)\n",
            "                    count       mean        std        min        25%  \\\n",
            "Age                4981.0  51.290905  26.624880   1.000000  29.000000   \n",
            "Temperature (C)    4981.0  19.962910  11.439338 -15.125000  12.212269   \n",
            "Humidity           4981.0   0.745075   0.143060   0.370833   0.624167   \n",
            "Wind Speed (km/h)  4981.0  10.706016   5.672566   0.008000   6.415179   \n",
            "\n",
            "                         50%     75%         max  \n",
            "Age                53.000000  74.000  100.000000  \n",
            "Temperature (C)    20.081713  28.540   40.996000  \n",
            "Humidity            0.750000   0.860    1.000000  \n",
            "Wind Speed (km/h)  10.185933  15.062   31.303096  \n"
          ]
        }
      ]
    },
    {
      "cell_type": "code",
      "source": [
        "# After outlier removal\n",
        "print(\"After outlier removal:\", df.shape)\n",
        "print(df[\"prognosis_3class\"].value_counts())"
      ],
      "metadata": {
        "colab": {
          "base_uri": "https://localhost:8080/"
        },
        "id": "m8nalsBIs9Yh",
        "outputId": "c0bf57bc-f42f-4537-ee1e-66d14dacae3b"
      },
      "execution_count": 25,
      "outputs": [
        {
          "output_type": "stream",
          "name": "stdout",
          "text": [
            "After outlier removal: (4981, 52)\n",
            "prognosis_3class\n",
            "Other           3116\n",
            "Heart Attack     968\n",
            "Migraine         897\n",
            "Name: count, dtype: int64\n"
          ]
        }
      ]
    },
    {
      "cell_type": "code",
      "source": [
        "import matplotlib.pyplot as plt\n",
        "\n",
        "# Class distribution after outlier removal\n",
        "counts = df[\"prognosis_3class\"].value_counts()\n",
        "\n",
        "plt.figure(figsize=(6,4))\n",
        "counts.plot(kind=\"bar\", color=[\"tomato\", \"skyblue\", \"lightgreen\"])\n",
        "plt.title(\"Prognosis (3-Class) Distribution after Outlier Removal\")\n",
        "plt.xlabel(\"Prognosis Class\")\n",
        "plt.ylabel(\"Count\")\n",
        "plt.xticks(rotation=0)\n",
        "\n",
        "\n",
        "for i, val in enumerate(counts):\n",
        "    plt.text(i, val + 5, str(val), ha='center', va='bottom', fontsize=10)\n",
        "\n",
        "plt.show()\n"
      ],
      "metadata": {
        "colab": {
          "base_uri": "https://localhost:8080/",
          "height": 410
        },
        "id": "ITzlAFG0p6ou",
        "outputId": "2f35f498-ba27-4530-9426-7317b68c15bb"
      },
      "execution_count": 26,
      "outputs": [
        {
          "output_type": "display_data",
          "data": {
            "text/plain": [
              "<Figure size 600x400 with 1 Axes>"
            ],
            "image/png": "[encoded data removed]"
          },
          "metadata": {}
        }
      ]
    },
    {
      "cell_type": "code",
      "source": [
        "# Save the outlier-removed dataset\n",
        "outlier_removed_csv = \"weather_disease_outliers_removed.csv\"\n",
        "df.to_csv(outlier_removed_csv, index=False)\n",
        "print(f\"Saved outlier-removed dataset: {outlier_removed_csv}\")\n",
        "\n",
        "\n"
      ],
      "metadata": {
        "colab": {
          "base_uri": "https://localhost:8080/"
        },
        "id": "gKGpKRBFvB6U",
        "outputId": "fe0ba373-ad04-4b59-e519-a5b9cb2749b5"
      },
      "execution_count": 27,
      "outputs": [
        {
          "output_type": "stream",
          "name": "stdout",
          "text": [
            "Saved outlier-removed dataset: weather_disease_outliers_removed.csv\n"
          ]
        }
      ]
    }
  ]
}